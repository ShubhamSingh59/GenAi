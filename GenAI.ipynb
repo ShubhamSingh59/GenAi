{
 "cells": [
  {
   "cell_type": "markdown",
   "id": "73a96f3c-20bc-49ed-80c4-94c732c2243f",
   "metadata": {},
   "source": [
    "## DEEP LEARNING\n",
    "we can devide Deep Learnign in three main parts:\n",
    "1. ANN\n",
    "2. CNN\n",
    "3. RNN\n",
    "\n"
   ]
  },
  {
   "cell_type": "markdown",
   "id": "20e39782-8afc-438d-aa19-653ade3b682f",
   "metadata": {},
   "source": [
    "## OPEN AI"
   ]
  },
  {
   "cell_type": "markdown",
   "id": "d9984a7c-5132-4c2b-b54d-18008851bf85",
   "metadata": {},
   "source": [
    "The differnce between Huggaing face and Open AI is first one is particular for the LLM and second one is not. Hugging face provide different different models at one place."
   ]
  },
  {
   "cell_type": "markdown",
   "id": "54ceabac-e2ef-4bcc-b835-e2edeff4d4cb",
   "metadata": {},
   "source": [
    "## End to End Pipeline\n",
    "\n",
    "It is set of steps to build an Gen AI software. Here are the steps in the pipeline\n",
    "1. Data Acquisitions\n",
    "2. Data Prepartion\n",
    "3. Feature Engineering\n",
    "4. Modeling\n",
    "5. Evaluation\n",
    "6. Deployment\n",
    "7. Monitering and model updating\n",
    "\n",
    "We have two kind of tokenization \n",
    "1. sentence level\n",
    "2. word level\n",
    "\n"
   ]
  },
  {
   "cell_type": "code",
   "execution_count": null,
   "id": "29e4a501-a7ff-4566-8e13-19e1f93f303b",
   "metadata": {},
   "outputs": [],
   "source": []
  }
 ],
 "metadata": {
  "kernelspec": {
   "display_name": "Python 3 (ipykernel)",
   "language": "python",
   "name": "python3"
  },
  "language_info": {
   "codemirror_mode": {
    "name": "ipython",
    "version": 3
   },
   "file_extension": ".py",
   "mimetype": "text/x-python",
   "name": "python",
   "nbconvert_exporter": "python",
   "pygments_lexer": "ipython3",
   "version": "3.11.8"
  }
 },
 "nbformat": 4,
 "nbformat_minor": 5
}
