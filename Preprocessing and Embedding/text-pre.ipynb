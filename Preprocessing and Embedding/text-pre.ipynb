{
 "cells": [
  {
   "cell_type": "code",
   "execution_count": 1,
   "id": "1ce0a865-55f3-4302-8a97-c5b189f9d268",
   "metadata": {},
   "outputs": [],
   "source": [
    "import pandas as pd"
   ]
  },
  {
   "cell_type": "code",
   "execution_count": 2,
   "id": "024bd254-c0df-4855-a380-799716154667",
   "metadata": {},
   "outputs": [],
   "source": [
    "df = pd.read_csv(\"IMDB Dataset.csv\")"
   ]
  },
  {
   "cell_type": "code",
   "execution_count": 3,
   "id": "fad5afdd-05d4-4b3d-999e-4d63474fe682",
   "metadata": {},
   "outputs": [
    {
     "data": {
      "text/html": [
       "<div>\n",
       "<style scoped>\n",
       "    .dataframe tbody tr th:only-of-type {\n",
       "        vertical-align: middle;\n",
       "    }\n",
       "\n",
       "    .dataframe tbody tr th {\n",
       "        vertical-align: top;\n",
       "    }\n",
       "\n",
       "    .dataframe thead th {\n",
       "        text-align: right;\n",
       "    }\n",
       "</style>\n",
       "<table border=\"1\" class=\"dataframe\">\n",
       "  <thead>\n",
       "    <tr style=\"text-align: right;\">\n",
       "      <th></th>\n",
       "      <th>review</th>\n",
       "      <th>sentiment</th>\n",
       "    </tr>\n",
       "  </thead>\n",
       "  <tbody>\n",
       "    <tr>\n",
       "      <th>0</th>\n",
       "      <td>One of the other reviewers has mentioned that ...</td>\n",
       "      <td>positive</td>\n",
       "    </tr>\n",
       "    <tr>\n",
       "      <th>1</th>\n",
       "      <td>A wonderful little production. &lt;br /&gt;&lt;br /&gt;The...</td>\n",
       "      <td>positive</td>\n",
       "    </tr>\n",
       "    <tr>\n",
       "      <th>2</th>\n",
       "      <td>I thought this was a wonderful way to spend ti...</td>\n",
       "      <td>positive</td>\n",
       "    </tr>\n",
       "    <tr>\n",
       "      <th>3</th>\n",
       "      <td>Basically there's a family where a little boy ...</td>\n",
       "      <td>negative</td>\n",
       "    </tr>\n",
       "    <tr>\n",
       "      <th>4</th>\n",
       "      <td>Petter Mattei's \"Love in the Time of Money\" is...</td>\n",
       "      <td>positive</td>\n",
       "    </tr>\n",
       "  </tbody>\n",
       "</table>\n",
       "</div>"
      ],
      "text/plain": [
       "                                              review sentiment\n",
       "0  One of the other reviewers has mentioned that ...  positive\n",
       "1  A wonderful little production. <br /><br />The...  positive\n",
       "2  I thought this was a wonderful way to spend ti...  positive\n",
       "3  Basically there's a family where a little boy ...  negative\n",
       "4  Petter Mattei's \"Love in the Time of Money\" is...  positive"
      ]
     },
     "execution_count": 3,
     "metadata": {},
     "output_type": "execute_result"
    }
   ],
   "source": [
    "df.head()"
   ]
  },
  {
   "cell_type": "code",
   "execution_count": 4,
   "id": "6e5cf974-651a-4164-91f4-981ba8c7d2ac",
   "metadata": {},
   "outputs": [
    {
     "data": {
      "text/plain": [
       "(50000, 2)"
      ]
     },
     "execution_count": 4,
     "metadata": {},
     "output_type": "execute_result"
    }
   ],
   "source": [
    "df.shape"
   ]
  },
  {
   "cell_type": "code",
   "execution_count": 5,
   "id": "b6be2b80-f87b-4f5b-acb6-b81b3c4dc428",
   "metadata": {},
   "outputs": [],
   "source": [
    "df = df.head(100)"
   ]
  },
  {
   "cell_type": "code",
   "execution_count": 6,
   "id": "e902edde-8280-4b78-98ee-a542f31a535d",
   "metadata": {},
   "outputs": [
    {
     "data": {
      "text/plain": [
       "(100, 2)"
      ]
     },
     "execution_count": 6,
     "metadata": {},
     "output_type": "execute_result"
    }
   ],
   "source": [
    "df.shape"
   ]
  },
  {
   "cell_type": "code",
   "execution_count": 7,
   "id": "d3a6231f-cc6a-4c38-a476-d18412c1c558",
   "metadata": {},
   "outputs": [],
   "source": [
    "## First lets turn all the text to small. To do that we can use python simple string function"
   ]
  },
  {
   "cell_type": "code",
   "execution_count": 8,
   "id": "223813b8-a008-4336-b18b-d28ae8dee708",
   "metadata": {},
   "outputs": [
    {
     "data": {
      "text/plain": [
       "str"
      ]
     },
     "execution_count": 8,
     "metadata": {},
     "output_type": "execute_result"
    }
   ],
   "source": [
    "type(df['review'][3])"
   ]
  },
  {
   "cell_type": "code",
   "execution_count": 9,
   "id": "b7900fb4-7662-4b95-a16c-b819100f12ec",
   "metadata": {},
   "outputs": [],
   "source": [
    "df['review'] = df['review'].str.lower()"
   ]
  },
  {
   "cell_type": "code",
   "execution_count": 10,
   "id": "2dd15c3a-e7c1-4491-92cf-9be665d76f8c",
   "metadata": {},
   "outputs": [
    {
     "data": {
      "text/plain": [
       "0     one of the other reviewers has mentioned that ...\n",
       "1     a wonderful little production. <br /><br />the...\n",
       "2     i thought this was a wonderful way to spend ti...\n",
       "3     basically there's a family where a little boy ...\n",
       "4     petter mattei's \"love in the time of money\" is...\n",
       "                            ...                        \n",
       "95    daniel day-lewis is the most versatile actor a...\n",
       "96    my guess would be this was originally going to...\n",
       "97    well, i like to watch bad horror b-movies, cau...\n",
       "98    this is the worst movie i have ever seen, as w...\n",
       "99    i have been a mario fan for as long as i can r...\n",
       "Name: review, Length: 100, dtype: object"
      ]
     },
     "execution_count": 10,
     "metadata": {},
     "output_type": "execute_result"
    }
   ],
   "source": [
    "df['review']"
   ]
  },
  {
   "cell_type": "code",
   "execution_count": 11,
   "id": "a5d5fd92-8701-4528-b44b-fe339e1c07c6",
   "metadata": {},
   "outputs": [
    {
     "data": {
      "text/plain": [
       "'a wonderful little production. <br /><br />the filming technique is very unassuming- very old-time-bbc fashion and gives a comforting, and sometimes discomforting, sense of realism to the entire piece. <br /><br />the actors are extremely well chosen- michael sheen not only \"has got all the polari\" but he has all the voices down pat too! you can truly see the seamless editing guided by the references to williams\\' diary entries, not only is it well worth the watching but it is a terrificly written and performed piece. a masterful production about one of the great master\\'s of comedy and his life. <br /><br />the realism really comes home with the little things: the fantasy of the guard which, rather than use the traditional \\'dream\\' techniques remains solid then disappears. it plays on our knowledge and our senses, particularly with the scenes concerning orton and halliwell and the sets (particularly of their flat with halliwell\\'s murals decorating every surface) are terribly well done.'"
      ]
     },
     "execution_count": 11,
     "metadata": {},
     "output_type": "execute_result"
    }
   ],
   "source": [
    "df['review'][1]"
   ]
  },
  {
   "cell_type": "code",
   "execution_count": 12,
   "id": "69b11f21-54be-480d-a7eb-e2ddd99eff07",
   "metadata": {},
   "outputs": [],
   "source": [
    "## Here we can see multiple html tags. we need to remove those tags. Here we can use butisoup. This python library helps us to extrat data from HTML and XML"
   ]
  },
  {
   "cell_type": "code",
   "execution_count": 13,
   "id": "60d17944-cc42-4f5c-84cc-5caca146f98a",
   "metadata": {},
   "outputs": [],
   "source": [
    "from bs4 import BeautifulSoup"
   ]
  },
  {
   "cell_type": "code",
   "execution_count": 14,
   "id": "cb08bdb3-79c5-4e35-9912-011867694cb8",
   "metadata": {},
   "outputs": [
    {
     "data": {
      "text/plain": [
       "'a wonderful little production. the filming technique is very unassuming- very old-time-bbc fashion and gives a comforting, and sometimes discomforting, sense of realism to the entire piece. the actors are extremely well chosen- michael sheen not only \"has got all the polari\" but he has all the voices down pat too! you can truly see the seamless editing guided by the references to williams\\' diary entries, not only is it well worth the watching but it is a terrificly written and performed piece. a masterful production about one of the great master\\'s of comedy and his life. the realism really comes home with the little things: the fantasy of the guard which, rather than use the traditional \\'dream\\' techniques remains solid then disappears. it plays on our knowledge and our senses, particularly with the scenes concerning orton and halliwell and the sets (particularly of their flat with halliwell\\'s murals decorating every surface) are terribly well done.'"
      ]
     },
     "execution_count": 14,
     "metadata": {},
     "output_type": "execute_result"
    }
   ],
   "source": [
    "BeautifulSoup(df['review'][1], \"html.parser\").get_text()"
   ]
  },
  {
   "cell_type": "code",
   "execution_count": 15,
   "id": "421f1760-709f-41c6-a57f-6deea48fde62",
   "metadata": {},
   "outputs": [],
   "source": [
    "##lets applly it to whole column"
   ]
  },
  {
   "cell_type": "code",
   "execution_count": 16,
   "id": "b40b73f2-5762-4622-8fc6-b8e8914403a1",
   "metadata": {},
   "outputs": [],
   "source": [
    "df['review'] = df['review'].apply(lambda x: BeautifulSoup(x, 'html.parser').get_text())"
   ]
  },
  {
   "cell_type": "code",
   "execution_count": 17,
   "id": "548f3916-491c-4d04-8652-23b5a96da63d",
   "metadata": {},
   "outputs": [
    {
     "data": {
      "text/plain": [
       "0     one of the other reviewers has mentioned that ...\n",
       "1     a wonderful little production. the filming tec...\n",
       "2     i thought this was a wonderful way to spend ti...\n",
       "3     basically there's a family where a little boy ...\n",
       "4     petter mattei's \"love in the time of money\" is...\n",
       "                            ...                        \n",
       "95    daniel day-lewis is the most versatile actor a...\n",
       "96    my guess would be this was originally going to...\n",
       "97    well, i like to watch bad horror b-movies, cau...\n",
       "98    this is the worst movie i have ever seen, as w...\n",
       "99    i have been a mario fan for as long as i can r...\n",
       "Name: review, Length: 100, dtype: object"
      ]
     },
     "execution_count": 17,
     "metadata": {},
     "output_type": "execute_result"
    }
   ],
   "source": [
    "df['review']"
   ]
  },
  {
   "cell_type": "code",
   "execution_count": 18,
   "id": "27509c0a-c75e-4675-a806-d1ef07a16f89",
   "metadata": {},
   "outputs": [],
   "source": [
    "## Now lets handle the puntuation "
   ]
  },
  {
   "cell_type": "code",
   "execution_count": 19,
   "id": "e8d9c3cf-2068-4c44-9488-b28cf726f28b",
   "metadata": {},
   "outputs": [],
   "source": [
    "import string "
   ]
  },
  {
   "cell_type": "code",
   "execution_count": 20,
   "id": "91d4e34a-6f88-4ba3-9caa-203e022bfb5c",
   "metadata": {},
   "outputs": [],
   "source": [
    "exclude = string.punctuation"
   ]
  },
  {
   "cell_type": "code",
   "execution_count": 21,
   "id": "aff5405b-039d-4a68-83c9-d4b73eaaf756",
   "metadata": {},
   "outputs": [
    {
     "name": "stdout",
     "output_type": "stream",
     "text": [
      "!\"#$%&'()*+,-./:;<=>?@[\\]^_`{|}~\n"
     ]
    }
   ],
   "source": [
    "print(exclude)"
   ]
  },
  {
   "cell_type": "code",
   "execution_count": 22,
   "id": "20402485-a20b-4a1a-af6a-f50d8b5ee399",
   "metadata": {},
   "outputs": [
    {
     "data": {
      "text/plain": [
       "str"
      ]
     },
     "execution_count": 22,
     "metadata": {},
     "output_type": "execute_result"
    }
   ],
   "source": [
    "type(exclude)"
   ]
  },
  {
   "cell_type": "code",
   "execution_count": 23,
   "id": "524d0c99-1406-4ce3-8cf5-c26d139ce13f",
   "metadata": {},
   "outputs": [],
   "source": [
    "test_string = df['review'][1]"
   ]
  },
  {
   "cell_type": "code",
   "execution_count": 24,
   "id": "d11b7c49-8e02-4177-94ed-a3140023af3f",
   "metadata": {},
   "outputs": [],
   "source": [
    "def remove_punctuation(text):\n",
    "    for ch in exclude:\n",
    "        text = text.replace(ch, '')\n",
    "\n",
    "    return text"
   ]
  },
  {
   "cell_type": "code",
   "execution_count": 25,
   "id": "0c4a55c4-4060-4623-9e83-653733958afa",
   "metadata": {},
   "outputs": [],
   "source": [
    "test_string = remove_punctuation(test_string)"
   ]
  },
  {
   "cell_type": "code",
   "execution_count": 26,
   "id": "92fd98aa-1bb1-453b-a0df-22bbb79ac178",
   "metadata": {},
   "outputs": [
    {
     "name": "stdout",
     "output_type": "stream",
     "text": [
      "a wonderful little production the filming technique is very unassuming very oldtimebbc fashion and gives a comforting and sometimes discomforting sense of realism to the entire piece the actors are extremely well chosen michael sheen not only has got all the polari but he has all the voices down pat too you can truly see the seamless editing guided by the references to williams diary entries not only is it well worth the watching but it is a terrificly written and performed piece a masterful production about one of the great masters of comedy and his life the realism really comes home with the little things the fantasy of the guard which rather than use the traditional dream techniques remains solid then disappears it plays on our knowledge and our senses particularly with the scenes concerning orton and halliwell and the sets particularly of their flat with halliwells murals decorating every surface are terribly well done\n"
     ]
    }
   ],
   "source": [
    "print(test_string)"
   ]
  },
  {
   "cell_type": "code",
   "execution_count": 27,
   "id": "53bc49c5-46a0-46ce-9788-3fadbee547ed",
   "metadata": {},
   "outputs": [],
   "source": [
    "## We we can translate method of sting"
   ]
  },
  {
   "cell_type": "code",
   "execution_count": 28,
   "id": "1899ae38-eb50-4f68-b096-d5d6508c3403",
   "metadata": {},
   "outputs": [],
   "source": [
    "def remove_punc(text):\n",
    "    text = text.translate(str.maketrans('','', exclude))\n",
    "    return text"
   ]
  },
  {
   "cell_type": "code",
   "execution_count": 29,
   "id": "6cf5b01d-9dd9-43e9-9437-daac190bad3f",
   "metadata": {},
   "outputs": [],
   "source": [
    "test_string = remove_punc(test_string)"
   ]
  },
  {
   "cell_type": "code",
   "execution_count": 30,
   "id": "018b4b6a-c3ed-4ca8-91ba-9a0e08b5931d",
   "metadata": {},
   "outputs": [
    {
     "name": "stdout",
     "output_type": "stream",
     "text": [
      "a wonderful little production the filming technique is very unassuming very oldtimebbc fashion and gives a comforting and sometimes discomforting sense of realism to the entire piece the actors are extremely well chosen michael sheen not only has got all the polari but he has all the voices down pat too you can truly see the seamless editing guided by the references to williams diary entries not only is it well worth the watching but it is a terrificly written and performed piece a masterful production about one of the great masters of comedy and his life the realism really comes home with the little things the fantasy of the guard which rather than use the traditional dream techniques remains solid then disappears it plays on our knowledge and our senses particularly with the scenes concerning orton and halliwell and the sets particularly of their flat with halliwells murals decorating every surface are terribly well done\n"
     ]
    }
   ],
   "source": [
    "print(test_string)"
   ]
  },
  {
   "cell_type": "code",
   "execution_count": 31,
   "id": "009360cd-3417-415d-97f5-f27523420e16",
   "metadata": {},
   "outputs": [],
   "source": [
    "df['review'] = df['review'].apply(remove_punc)"
   ]
  },
  {
   "cell_type": "code",
   "execution_count": 32,
   "id": "81464f43-2bc2-497a-8913-8f6ee458aa5e",
   "metadata": {},
   "outputs": [
    {
     "data": {
      "text/plain": [
       "0     one of the other reviewers has mentioned that ...\n",
       "1     a wonderful little production the filming tech...\n",
       "2     i thought this was a wonderful way to spend ti...\n",
       "3     basically theres a family where a little boy j...\n",
       "4     petter matteis love in the time of money is a ...\n",
       "                            ...                        \n",
       "95    daniel daylewis is the most versatile actor al...\n",
       "96    my guess would be this was originally going to...\n",
       "97    well i like to watch bad horror bmovies cause ...\n",
       "98    this is the worst movie i have ever seen as we...\n",
       "99    i have been a mario fan for as long as i can r...\n",
       "Name: review, Length: 100, dtype: object"
      ]
     },
     "execution_count": 32,
     "metadata": {},
     "output_type": "execute_result"
    }
   ],
   "source": [
    "df['review']"
   ]
  },
  {
   "cell_type": "code",
   "execution_count": 33,
   "id": "fad772be-2514-4f6d-b575-7c88f7981209",
   "metadata": {},
   "outputs": [],
   "source": [
    "## Now lets remove the stopwords"
   ]
  },
  {
   "cell_type": "code",
   "execution_count": 34,
   "id": "514aa594-37bc-40f3-80b2-a0a5318e2341",
   "metadata": {},
   "outputs": [],
   "source": [
    "from nltk.corpus import stopwords"
   ]
  },
  {
   "cell_type": "code",
   "execution_count": 35,
   "id": "d49d1399-6625-40c0-acec-3d3fa270806e",
   "metadata": {},
   "outputs": [
    {
     "data": {
      "text/plain": [
       "['a',\n",
       " 'about',\n",
       " 'above',\n",
       " 'after',\n",
       " 'again',\n",
       " 'against',\n",
       " 'ain',\n",
       " 'all',\n",
       " 'am',\n",
       " 'an',\n",
       " 'and',\n",
       " 'any',\n",
       " 'are',\n",
       " 'aren',\n",
       " \"aren't\",\n",
       " 'as',\n",
       " 'at',\n",
       " 'be',\n",
       " 'because',\n",
       " 'been',\n",
       " 'before',\n",
       " 'being',\n",
       " 'below',\n",
       " 'between',\n",
       " 'both',\n",
       " 'but',\n",
       " 'by',\n",
       " 'can',\n",
       " 'couldn',\n",
       " \"couldn't\",\n",
       " 'd',\n",
       " 'did',\n",
       " 'didn',\n",
       " \"didn't\",\n",
       " 'do',\n",
       " 'does',\n",
       " 'doesn',\n",
       " \"doesn't\",\n",
       " 'doing',\n",
       " 'don',\n",
       " \"don't\",\n",
       " 'down',\n",
       " 'during',\n",
       " 'each',\n",
       " 'few',\n",
       " 'for',\n",
       " 'from',\n",
       " 'further',\n",
       " 'had',\n",
       " 'hadn',\n",
       " \"hadn't\",\n",
       " 'has',\n",
       " 'hasn',\n",
       " \"hasn't\",\n",
       " 'have',\n",
       " 'haven',\n",
       " \"haven't\",\n",
       " 'having',\n",
       " 'he',\n",
       " \"he'd\",\n",
       " \"he'll\",\n",
       " 'her',\n",
       " 'here',\n",
       " 'hers',\n",
       " 'herself',\n",
       " \"he's\",\n",
       " 'him',\n",
       " 'himself',\n",
       " 'his',\n",
       " 'how',\n",
       " 'i',\n",
       " \"i'd\",\n",
       " 'if',\n",
       " \"i'll\",\n",
       " \"i'm\",\n",
       " 'in',\n",
       " 'into',\n",
       " 'is',\n",
       " 'isn',\n",
       " \"isn't\",\n",
       " 'it',\n",
       " \"it'd\",\n",
       " \"it'll\",\n",
       " \"it's\",\n",
       " 'its',\n",
       " 'itself',\n",
       " \"i've\",\n",
       " 'just',\n",
       " 'll',\n",
       " 'm',\n",
       " 'ma',\n",
       " 'me',\n",
       " 'mightn',\n",
       " \"mightn't\",\n",
       " 'more',\n",
       " 'most',\n",
       " 'mustn',\n",
       " \"mustn't\",\n",
       " 'my',\n",
       " 'myself',\n",
       " 'needn',\n",
       " \"needn't\",\n",
       " 'no',\n",
       " 'nor',\n",
       " 'not',\n",
       " 'now',\n",
       " 'o',\n",
       " 'of',\n",
       " 'off',\n",
       " 'on',\n",
       " 'once',\n",
       " 'only',\n",
       " 'or',\n",
       " 'other',\n",
       " 'our',\n",
       " 'ours',\n",
       " 'ourselves',\n",
       " 'out',\n",
       " 'over',\n",
       " 'own',\n",
       " 're',\n",
       " 's',\n",
       " 'same',\n",
       " 'shan',\n",
       " \"shan't\",\n",
       " 'she',\n",
       " \"she'd\",\n",
       " \"she'll\",\n",
       " \"she's\",\n",
       " 'should',\n",
       " 'shouldn',\n",
       " \"shouldn't\",\n",
       " \"should've\",\n",
       " 'so',\n",
       " 'some',\n",
       " 'such',\n",
       " 't',\n",
       " 'than',\n",
       " 'that',\n",
       " \"that'll\",\n",
       " 'the',\n",
       " 'their',\n",
       " 'theirs',\n",
       " 'them',\n",
       " 'themselves',\n",
       " 'then',\n",
       " 'there',\n",
       " 'these',\n",
       " 'they',\n",
       " \"they'd\",\n",
       " \"they'll\",\n",
       " \"they're\",\n",
       " \"they've\",\n",
       " 'this',\n",
       " 'those',\n",
       " 'through',\n",
       " 'to',\n",
       " 'too',\n",
       " 'under',\n",
       " 'until',\n",
       " 'up',\n",
       " 've',\n",
       " 'very',\n",
       " 'was',\n",
       " 'wasn',\n",
       " \"wasn't\",\n",
       " 'we',\n",
       " \"we'd\",\n",
       " \"we'll\",\n",
       " \"we're\",\n",
       " 'were',\n",
       " 'weren',\n",
       " \"weren't\",\n",
       " \"we've\",\n",
       " 'what',\n",
       " 'when',\n",
       " 'where',\n",
       " 'which',\n",
       " 'while',\n",
       " 'who',\n",
       " 'whom',\n",
       " 'why',\n",
       " 'will',\n",
       " 'with',\n",
       " 'won',\n",
       " \"won't\",\n",
       " 'wouldn',\n",
       " \"wouldn't\",\n",
       " 'y',\n",
       " 'you',\n",
       " \"you'd\",\n",
       " \"you'll\",\n",
       " 'your',\n",
       " \"you're\",\n",
       " 'yours',\n",
       " 'yourself',\n",
       " 'yourselves',\n",
       " \"you've\"]"
      ]
     },
     "execution_count": 35,
     "metadata": {},
     "output_type": "execute_result"
    }
   ],
   "source": [
    "stopwords.words('english')"
   ]
  },
  {
   "cell_type": "code",
   "execution_count": 36,
   "id": "71b5219a-6f01-4b21-b19a-004d9153ee8a",
   "metadata": {},
   "outputs": [],
   "source": [
    "def remove_stopwords(text):\n",
    "    new_text = []\n",
    "    for word in text.split():\n",
    "        if word in stopwords.words('english'):\n",
    "            new_text.append('')\n",
    "        else:\n",
    "            new_text.append(word)\n",
    "    return ' '.join(new_text)"
   ]
  },
  {
   "cell_type": "code",
   "execution_count": 37,
   "id": "ab32f758-d479-4a75-a06f-854b79b2b42e",
   "metadata": {},
   "outputs": [
    {
     "data": {
      "text/plain": [
       "'a wonderful little production the filming technique is very unassuming very oldtimebbc fashion and gives a comforting and sometimes discomforting sense of realism to the entire piece the actors are extremely well chosen michael sheen not only has got all the polari but he has all the voices down pat too you can truly see the seamless editing guided by the references to williams diary entries not only is it well worth the watching but it is a terrificly written and performed piece a masterful production about one of the great masters of comedy and his life the realism really comes home with the little things the fantasy of the guard which rather than use the traditional dream techniques remains solid then disappears it plays on our knowledge and our senses particularly with the scenes concerning orton and halliwell and the sets particularly of their flat with halliwells murals decorating every surface are terribly well done'"
      ]
     },
     "execution_count": 37,
     "metadata": {},
     "output_type": "execute_result"
    }
   ],
   "source": [
    "test_string"
   ]
  },
  {
   "cell_type": "code",
   "execution_count": 38,
   "id": "6cfd37d6-785c-49f3-8d09-08e0e08c9bfe",
   "metadata": {},
   "outputs": [],
   "source": [
    "test_string = remove_stopwords(test_string)"
   ]
  },
  {
   "cell_type": "code",
   "execution_count": 39,
   "id": "27099341-6140-4c27-8aae-5401163b747f",
   "metadata": {},
   "outputs": [
    {
     "name": "stdout",
     "output_type": "stream",
     "text": [
      " wonderful little production  filming technique   unassuming  oldtimebbc fashion  gives  comforting  sometimes discomforting sense  realism   entire piece  actors  extremely well chosen michael sheen    got   polari      voices  pat    truly see  seamless editing guided   references  williams diary entries     well worth  watching     terrificly written  performed piece  masterful production  one   great masters  comedy   life  realism really comes home   little things  fantasy   guard  rather  use  traditional dream techniques remains solid  disappears  plays   knowledge   senses particularly   scenes concerning orton  halliwell   sets particularly   flat  halliwells murals decorating every surface  terribly well done\n"
     ]
    }
   ],
   "source": [
    "print(test_string)"
   ]
  },
  {
   "cell_type": "code",
   "execution_count": 40,
   "id": "855f844d-680e-4700-afce-ea9312511df0",
   "metadata": {},
   "outputs": [],
   "source": [
    "df['review'] = df['review'].apply(remove_stopwords)"
   ]
  },
  {
   "cell_type": "code",
   "execution_count": 41,
   "id": "32fb02ab-50f1-4db1-84db-adc199df55ca",
   "metadata": {},
   "outputs": [
    {
     "data": {
      "text/plain": [
       "0     one    reviewers  mentioned   watching  1 oz e...\n",
       "1      wonderful little production  filming techniqu...\n",
       "2      thought    wonderful way  spend time    hot s...\n",
       "3     basically theres  family   little boy jake thi...\n",
       "4     petter matteis love   time  money   visually s...\n",
       "                            ...                        \n",
       "95    daniel daylewis    versatile actor alive engli...\n",
       "96     guess would    originally going    least two ...\n",
       "97    well  like  watch bad horror bmovies cause  th...\n",
       "98       worst movie   ever seen  well   worst    pr...\n",
       "99        mario fan   long    remember    fond memor...\n",
       "Name: review, Length: 100, dtype: object"
      ]
     },
     "execution_count": 41,
     "metadata": {},
     "output_type": "execute_result"
    }
   ],
   "source": [
    "df['review']"
   ]
  },
  {
   "cell_type": "code",
   "execution_count": 42,
   "id": "553307b5-bbed-4f5e-9a0f-cf24f006efd1",
   "metadata": {},
   "outputs": [],
   "source": [
    "## now lets tokenize and stemp it. for It we can use SpaCy"
   ]
  },
  {
   "cell_type": "code",
   "execution_count": 43,
   "id": "c5917764-1488-41c9-87cc-a6aca8a1a199",
   "metadata": {},
   "outputs": [
    {
     "name": "stderr",
     "output_type": "stream",
     "text": [
      "C:\\Users\\SHUBHAM\\AppData\\Roaming\\Python\\Python311\\site-packages\\tqdm\\auto.py:21: TqdmWarning: IProgress not found. Please update jupyter and ipywidgets. See https://ipywidgets.readthedocs.io/en/stable/user_install.html\n",
      "  from .autonotebook import tqdm as notebook_tqdm\n"
     ]
    }
   ],
   "source": [
    "##let us use transforners because of this we do need to vectorization it will handle that process atuometically\n",
    "from transformers import AutoTokenizer"
   ]
  },
  {
   "cell_type": "code",
   "execution_count": 44,
   "id": "1f83837e-d169-43bb-af58-71780a98d405",
   "metadata": {
    "scrolled": true
   },
   "outputs": [],
   "source": [
    "tokenizer = AutoTokenizer.from_pretrained(\"bert-base-uncased\")"
   ]
  },
  {
   "cell_type": "code",
   "execution_count": 45,
   "id": "7c26bfcc-f770-4223-9f1c-005552de1c35",
   "metadata": {},
   "outputs": [],
   "source": [
    "def tokens(text):\n",
    "    return tokenizer(text, return_tensors = 'tf', padding=True, truncation=True)"
   ]
  },
  {
   "cell_type": "code",
   "execution_count": 46,
   "id": "b51aa6b1-1475-431f-b998-ee0f57896774",
   "metadata": {},
   "outputs": [
    {
     "data": {
      "text/plain": [
       "{'input_ids': <tf.Tensor: shape=(1, 102), dtype=int32, numpy=\n",
       "array([[  101,  6919,  2210,  2537,  7467,  6028, 14477,  4757, 24270,\n",
       "         2214,  7292, 10322,  2278,  4827,  3957, 16334,  2823, 17964,\n",
       "         2075,  3168, 15650,  2972,  3538,  5889,  5186,  2092,  4217,\n",
       "         2745, 20682,  2288, 11508,  2072,  5755,  6986,  5621,  2156,\n",
       "        25180,  3238,  9260,  8546,  7604,  3766,  9708, 10445,  2092,\n",
       "         4276,  3666, 27547,  2135,  2517,  2864,  3538,  3040,  3993,\n",
       "         2537,  2028,  2307,  5972,  4038,  2166, 15650,  2428,  3310,\n",
       "         2188,  2210,  2477,  5913,  3457,  2738,  2224,  3151,  3959,\n",
       "         5461,  3464,  5024, 17144,  3248,  3716,  9456,  3391,  5019,\n",
       "         7175, 25161,  2534,  2072,  4381,  4520,  3391,  4257,  2534,\n",
       "         2072,  4381,  2015, 19016, 25545,  5844,  2296,  3302, 16668,\n",
       "         2092,  2589,   102]])>, 'token_type_ids': <tf.Tensor: shape=(1, 102), dtype=int32, numpy=\n",
       "array([[0, 0, 0, 0, 0, 0, 0, 0, 0, 0, 0, 0, 0, 0, 0, 0, 0, 0, 0, 0, 0, 0,\n",
       "        0, 0, 0, 0, 0, 0, 0, 0, 0, 0, 0, 0, 0, 0, 0, 0, 0, 0, 0, 0, 0, 0,\n",
       "        0, 0, 0, 0, 0, 0, 0, 0, 0, 0, 0, 0, 0, 0, 0, 0, 0, 0, 0, 0, 0, 0,\n",
       "        0, 0, 0, 0, 0, 0, 0, 0, 0, 0, 0, 0, 0, 0, 0, 0, 0, 0, 0, 0, 0, 0,\n",
       "        0, 0, 0, 0, 0, 0, 0, 0, 0, 0, 0, 0, 0, 0]])>, 'attention_mask': <tf.Tensor: shape=(1, 102), dtype=int32, numpy=\n",
       "array([[1, 1, 1, 1, 1, 1, 1, 1, 1, 1, 1, 1, 1, 1, 1, 1, 1, 1, 1, 1, 1, 1,\n",
       "        1, 1, 1, 1, 1, 1, 1, 1, 1, 1, 1, 1, 1, 1, 1, 1, 1, 1, 1, 1, 1, 1,\n",
       "        1, 1, 1, 1, 1, 1, 1, 1, 1, 1, 1, 1, 1, 1, 1, 1, 1, 1, 1, 1, 1, 1,\n",
       "        1, 1, 1, 1, 1, 1, 1, 1, 1, 1, 1, 1, 1, 1, 1, 1, 1, 1, 1, 1, 1, 1,\n",
       "        1, 1, 1, 1, 1, 1, 1, 1, 1, 1, 1, 1, 1, 1]])>}"
      ]
     },
     "execution_count": 46,
     "metadata": {},
     "output_type": "execute_result"
    }
   ],
   "source": [
    "tokens(test_string)"
   ]
  },
  {
   "cell_type": "code",
   "execution_count": 47,
   "id": "c60e551b-515e-4bf2-a549-1079bfe5ed66",
   "metadata": {},
   "outputs": [],
   "source": [
    "df['review'] = df['review'].apply(tokens)"
   ]
  },
  {
   "cell_type": "code",
   "execution_count": 48,
   "id": "0fd54379-148f-4362-b4ce-130e0f6f8ad3",
   "metadata": {},
   "outputs": [
    {
     "data": {
      "text/plain": [
       "{'input_ids': <tf.Tensor: shape=(1, 102), dtype=int32, numpy=\n",
       "array([[  101,  6919,  2210,  2537,  7467,  6028, 14477,  4757, 24270,\n",
       "         2214,  7292, 10322,  2278,  4827,  3957, 16334,  2823, 17964,\n",
       "         2075,  3168, 15650,  2972,  3538,  5889,  5186,  2092,  4217,\n",
       "         2745, 20682,  2288, 11508,  2072,  5755,  6986,  5621,  2156,\n",
       "        25180,  3238,  9260,  8546,  7604,  3766,  9708, 10445,  2092,\n",
       "         4276,  3666, 27547,  2135,  2517,  2864,  3538,  3040,  3993,\n",
       "         2537,  2028,  2307,  5972,  4038,  2166, 15650,  2428,  3310,\n",
       "         2188,  2210,  2477,  5913,  3457,  2738,  2224,  3151,  3959,\n",
       "         5461,  3464,  5024, 17144,  3248,  3716,  9456,  3391,  5019,\n",
       "         7175, 25161,  2534,  2072,  4381,  4520,  3391,  4257,  2534,\n",
       "         2072,  4381,  2015, 19016, 25545,  5844,  2296,  3302, 16668,\n",
       "         2092,  2589,   102]])>, 'token_type_ids': <tf.Tensor: shape=(1, 102), dtype=int32, numpy=\n",
       "array([[0, 0, 0, 0, 0, 0, 0, 0, 0, 0, 0, 0, 0, 0, 0, 0, 0, 0, 0, 0, 0, 0,\n",
       "        0, 0, 0, 0, 0, 0, 0, 0, 0, 0, 0, 0, 0, 0, 0, 0, 0, 0, 0, 0, 0, 0,\n",
       "        0, 0, 0, 0, 0, 0, 0, 0, 0, 0, 0, 0, 0, 0, 0, 0, 0, 0, 0, 0, 0, 0,\n",
       "        0, 0, 0, 0, 0, 0, 0, 0, 0, 0, 0, 0, 0, 0, 0, 0, 0, 0, 0, 0, 0, 0,\n",
       "        0, 0, 0, 0, 0, 0, 0, 0, 0, 0, 0, 0, 0, 0]])>, 'attention_mask': <tf.Tensor: shape=(1, 102), dtype=int32, numpy=\n",
       "array([[1, 1, 1, 1, 1, 1, 1, 1, 1, 1, 1, 1, 1, 1, 1, 1, 1, 1, 1, 1, 1, 1,\n",
       "        1, 1, 1, 1, 1, 1, 1, 1, 1, 1, 1, 1, 1, 1, 1, 1, 1, 1, 1, 1, 1, 1,\n",
       "        1, 1, 1, 1, 1, 1, 1, 1, 1, 1, 1, 1, 1, 1, 1, 1, 1, 1, 1, 1, 1, 1,\n",
       "        1, 1, 1, 1, 1, 1, 1, 1, 1, 1, 1, 1, 1, 1, 1, 1, 1, 1, 1, 1, 1, 1,\n",
       "        1, 1, 1, 1, 1, 1, 1, 1, 1, 1, 1, 1, 1, 1]])>}"
      ]
     },
     "execution_count": 48,
     "metadata": {},
     "output_type": "execute_result"
    }
   ],
   "source": [
    "df['review'][1]"
   ]
  },
  {
   "cell_type": "code",
   "execution_count": null,
   "id": "758ae05c-b5f0-4b01-aa5e-3a17f57e9f86",
   "metadata": {},
   "outputs": [],
   "source": []
  }
 ],
 "metadata": {
  "kernelspec": {
   "display_name": "Python 3 (ipykernel)",
   "language": "python",
   "name": "python3"
  },
  "language_info": {
   "codemirror_mode": {
    "name": "ipython",
    "version": 3
   },
   "file_extension": ".py",
   "mimetype": "text/x-python",
   "name": "python",
   "nbconvert_exporter": "python",
   "pygments_lexer": "ipython3",
   "version": "3.11.8"
  }
 },
 "nbformat": 4,
 "nbformat_minor": 5
}
