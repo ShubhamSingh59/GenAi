from transformers import pipeline


classifier = pipeline("sentiment-analysis")


result = classifier("I do not like Salman Khan")


print(result)



